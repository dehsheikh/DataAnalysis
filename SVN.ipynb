{
 "cells": [
  {
   "cell_type": "code",
   "execution_count": 23,
   "metadata": {
    "collapsed": true,
    "pycharm": {
     "name": "#%%\n"
    }
   },
   "outputs": [],
   "source": [
    "import numpy as np\n",
    "import pandas as pd\n",
    "import seaborn as sns\n",
    "import openpyxl\n",
    "%matplotlib inline"
   ]
  },
  {
   "cell_type": "code",
   "execution_count": 24,
   "outputs": [
    {
     "data": {
      "text/plain": "   REF_DATE     GEO           DGUID  Census year (3)  \\\n0      2021  Canada  2021A000011124             2021   \n1      2021  Canada  2021A000011124             2021   \n2      2021  Canada  2021A000011124             2021   \n3      2021  Canada  2021A000011124             2021   \n4      2021  Canada  2021A000011124             2021   \n\n       Structural type of dwelling (9) Coordinate  \\\n0  Total - Structural type of dwelling      1.1.1   \n1                Single-detached house      1.1.2   \n2                  Semi-detached house      1.1.3   \n3                            Row house      1.1.4   \n4        Apartment or flat in a duplex      1.1.5   \n\n   Household type including multigenerational households (9):Total - Household type including multigenerational households[1]  \\\n0                                           14978940                                                                            \n1                                            7872305                                                                            \n2                                             746555                                                                            \n3                                             980110                                                                            \n4                                             821490                                                                            \n\n   Symbol  \\\n0     NaN   \n1     NaN   \n2     NaN   \n3     NaN   \n4     NaN   \n\n   Household type including multigenerational households (9):One-census-family households without additional persons: couple without children[2]  \\\n0                                            3837395                                                                                               \n1                                            2403675                                                                                               \n2                                             171395                                                                                               \n3                                             199805                                                                                               \n4                                             160575                                                                                               \n\n   Symbol.1  ...  \\\n0       NaN  ...   \n1       NaN  ...   \n2       NaN  ...   \n3       NaN  ...   \n4       NaN  ...   \n\n   Household type including multigenerational households (9):Multigenerational households[5]  \\\n0                                             441750                                           \n1                                             301660                                           \n2                                              29045                                           \n3                                              31775                                           \n4                                              35325                                           \n\n   Symbol.4  \\\n0       NaN   \n1       NaN   \n2       NaN   \n3       NaN   \n4       NaN   \n\n   Household type including multigenerational households (9):Multiple-census-family households[6]  \\\n0                                              94230                                                \n1                                              65470                                                \n2                                               6310                                                \n3                                               5820                                                \n4                                               7585                                                \n\n   Symbol.5  \\\n0       NaN   \n1       NaN   \n2       NaN   \n3       NaN   \n4       NaN   \n\n   Household type including multigenerational households (9):One-census-family households with additional persons[7]  \\\n0                                             450415                                                                   \n1                                             271940                                                                   \n2                                              30520                                                                   \n3                                              35920                                                                   \n4                                              35155                                                                   \n\n   Symbol.6  \\\n0       NaN   \n1       NaN   \n2       NaN   \n3       NaN   \n4       NaN   \n\n   Household type including multigenerational households (9):Two-or-more-person non-census-family households[8]  \\\n0                                             663830                                                              \n1                                             225285                                                              \n2                                              31465                                                              \n3                                              43520                                                              \n4                                              60820                                                              \n\n   Symbol.7  \\\n0       NaN   \n1       NaN   \n2       NaN   \n3       NaN   \n4       NaN   \n\n   Household type including multigenerational households (9):One-person households[9]  \\\n0                                            4396010                                    \n1                                            1437020                                    \n2                                             164040                                    \n3                                             243655                                    \n4                                             259515                                    \n\n   Symbol.8  \n0       NaN  \n1       NaN  \n2       NaN  \n3       NaN  \n4       NaN  \n\n[5 rows x 24 columns]",
      "text/html": "<div>\n<style scoped>\n    .dataframe tbody tr th:only-of-type {\n        vertical-align: middle;\n    }\n\n    .dataframe tbody tr th {\n        vertical-align: top;\n    }\n\n    .dataframe thead th {\n        text-align: right;\n    }\n</style>\n<table border=\"1\" class=\"dataframe\">\n  <thead>\n    <tr style=\"text-align: right;\">\n      <th></th>\n      <th>REF_DATE</th>\n      <th>GEO</th>\n      <th>DGUID</th>\n      <th>Census year (3)</th>\n      <th>Structural type of dwelling (9)</th>\n      <th>Coordinate</th>\n      <th>Household type including multigenerational households (9):Total - Household type including multigenerational households[1]</th>\n      <th>Symbol</th>\n      <th>Household type including multigenerational households (9):One-census-family households without additional persons: couple without children[2]</th>\n      <th>Symbol.1</th>\n      <th>...</th>\n      <th>Household type including multigenerational households (9):Multigenerational households[5]</th>\n      <th>Symbol.4</th>\n      <th>Household type including multigenerational households (9):Multiple-census-family households[6]</th>\n      <th>Symbol.5</th>\n      <th>Household type including multigenerational households (9):One-census-family households with additional persons[7]</th>\n      <th>Symbol.6</th>\n      <th>Household type including multigenerational households (9):Two-or-more-person non-census-family households[8]</th>\n      <th>Symbol.7</th>\n      <th>Household type including multigenerational households (9):One-person households[9]</th>\n      <th>Symbol.8</th>\n    </tr>\n  </thead>\n  <tbody>\n    <tr>\n      <th>0</th>\n      <td>2021</td>\n      <td>Canada</td>\n      <td>2021A000011124</td>\n      <td>2021</td>\n      <td>Total - Structural type of dwelling</td>\n      <td>1.1.1</td>\n      <td>14978940</td>\n      <td>NaN</td>\n      <td>3837395</td>\n      <td>NaN</td>\n      <td>...</td>\n      <td>441750</td>\n      <td>NaN</td>\n      <td>94230</td>\n      <td>NaN</td>\n      <td>450415</td>\n      <td>NaN</td>\n      <td>663830</td>\n      <td>NaN</td>\n      <td>4396010</td>\n      <td>NaN</td>\n    </tr>\n    <tr>\n      <th>1</th>\n      <td>2021</td>\n      <td>Canada</td>\n      <td>2021A000011124</td>\n      <td>2021</td>\n      <td>Single-detached house</td>\n      <td>1.1.2</td>\n      <td>7872305</td>\n      <td>NaN</td>\n      <td>2403675</td>\n      <td>NaN</td>\n      <td>...</td>\n      <td>301660</td>\n      <td>NaN</td>\n      <td>65470</td>\n      <td>NaN</td>\n      <td>271940</td>\n      <td>NaN</td>\n      <td>225285</td>\n      <td>NaN</td>\n      <td>1437020</td>\n      <td>NaN</td>\n    </tr>\n    <tr>\n      <th>2</th>\n      <td>2021</td>\n      <td>Canada</td>\n      <td>2021A000011124</td>\n      <td>2021</td>\n      <td>Semi-detached house</td>\n      <td>1.1.3</td>\n      <td>746555</td>\n      <td>NaN</td>\n      <td>171395</td>\n      <td>NaN</td>\n      <td>...</td>\n      <td>29045</td>\n      <td>NaN</td>\n      <td>6310</td>\n      <td>NaN</td>\n      <td>30520</td>\n      <td>NaN</td>\n      <td>31465</td>\n      <td>NaN</td>\n      <td>164040</td>\n      <td>NaN</td>\n    </tr>\n    <tr>\n      <th>3</th>\n      <td>2021</td>\n      <td>Canada</td>\n      <td>2021A000011124</td>\n      <td>2021</td>\n      <td>Row house</td>\n      <td>1.1.4</td>\n      <td>980110</td>\n      <td>NaN</td>\n      <td>199805</td>\n      <td>NaN</td>\n      <td>...</td>\n      <td>31775</td>\n      <td>NaN</td>\n      <td>5820</td>\n      <td>NaN</td>\n      <td>35920</td>\n      <td>NaN</td>\n      <td>43520</td>\n      <td>NaN</td>\n      <td>243655</td>\n      <td>NaN</td>\n    </tr>\n    <tr>\n      <th>4</th>\n      <td>2021</td>\n      <td>Canada</td>\n      <td>2021A000011124</td>\n      <td>2021</td>\n      <td>Apartment or flat in a duplex</td>\n      <td>1.1.5</td>\n      <td>821490</td>\n      <td>NaN</td>\n      <td>160575</td>\n      <td>NaN</td>\n      <td>...</td>\n      <td>35325</td>\n      <td>NaN</td>\n      <td>7585</td>\n      <td>NaN</td>\n      <td>35155</td>\n      <td>NaN</td>\n      <td>60820</td>\n      <td>NaN</td>\n      <td>259515</td>\n      <td>NaN</td>\n    </tr>\n  </tbody>\n</table>\n<p>5 rows × 24 columns</p>\n</div>"
     },
     "execution_count": 24,
     "metadata": {},
     "output_type": "execute_result"
    }
   ],
   "source": [
    "data = pd.read_csv(\"98100138.csv\")\n",
    "data.head()"
   ],
   "metadata": {
    "collapsed": false,
    "pycharm": {
     "name": "#%%\n"
    }
   }
  },
  {
   "cell_type": "code",
   "execution_count": 25,
   "outputs": [
    {
     "data": {
      "text/plain": "Index(['REF_DATE', 'GEO', 'DGUID', 'Census year (3)',\n       'Structural type of dwelling (9)', 'Coordinate',\n       'Household type including multigenerational households (9):Total - Household type including multigenerational households[1]',\n       'Symbol',\n       'Household type including multigenerational households (9):One-census-family households without additional persons: couple without children[2]',\n       'Symbol.1',\n       'Household type including multigenerational households (9):One-census-family households without additional persons: couple with children[3]',\n       'Symbol.2',\n       'Household type including multigenerational households (9):One-census-family households without additional persons: one-parent family[4]',\n       'Symbol.3',\n       'Household type including multigenerational households (9):Multigenerational households[5]',\n       'Symbol.4',\n       'Household type including multigenerational households (9):Multiple-census-family households[6]',\n       'Symbol.5',\n       'Household type including multigenerational households (9):One-census-family households with additional persons[7]',\n       'Symbol.6',\n       'Household type including multigenerational households (9):Two-or-more-person non-census-family households[8]',\n       'Symbol.7',\n       'Household type including multigenerational households (9):One-person households[9]',\n       'Symbol.8'],\n      dtype='object')"
     },
     "execution_count": 25,
     "metadata": {},
     "output_type": "execute_result"
    }
   ],
   "source": [
    "data.columns"
   ],
   "metadata": {
    "collapsed": false,
    "pycharm": {
     "name": "#%%\n"
    }
   }
  },
  {
   "cell_type": "code",
   "execution_count": 26,
   "outputs": [
    {
     "name": "stdout",
     "output_type": "stream",
     "text": [
      "<class 'pandas.core.frame.DataFrame'>\n",
      "RangeIndex: 4482 entries, 0 to 4481\n",
      "Data columns (total 24 columns):\n",
      " #   Column                                                                                                                                         Non-Null Count  Dtype  \n",
      "---  ------                                                                                                                                         --------------  -----  \n",
      " 0   REF_DATE                                                                                                                                       4482 non-null   int64  \n",
      " 1   GEO                                                                                                                                            4482 non-null   object \n",
      " 2   DGUID                                                                                                                                          4482 non-null   object \n",
      " 3   Census year (3)                                                                                                                                4482 non-null   int64  \n",
      " 4   Structural type of dwelling (9)                                                                                                                4482 non-null   object \n",
      " 5   Coordinate                                                                                                                                     4482 non-null   object \n",
      " 6   Household type including multigenerational households (9):Total - Household type including multigenerational households[1]                     4482 non-null   int64  \n",
      " 7   Symbol                                                                                                                                         0 non-null      float64\n",
      " 8   Household type including multigenerational households (9):One-census-family households without additional persons: couple without children[2]  4482 non-null   int64  \n",
      " 9   Symbol.1                                                                                                                                       0 non-null      float64\n",
      " 10  Household type including multigenerational households (9):One-census-family households without additional persons: couple with children[3]     4482 non-null   int64  \n",
      " 11  Symbol.2                                                                                                                                       0 non-null      float64\n",
      " 12  Household type including multigenerational households (9):One-census-family households without additional persons: one-parent family[4]        4482 non-null   int64  \n",
      " 13  Symbol.3                                                                                                                                       0 non-null      float64\n",
      " 14  Household type including multigenerational households (9):Multigenerational households[5]                                                      4482 non-null   int64  \n",
      " 15  Symbol.4                                                                                                                                       0 non-null      float64\n",
      " 16  Household type including multigenerational households (9):Multiple-census-family households[6]                                                 4482 non-null   int64  \n",
      " 17  Symbol.5                                                                                                                                       0 non-null      float64\n",
      " 18  Household type including multigenerational households (9):One-census-family households with additional persons[7]                              4482 non-null   int64  \n",
      " 19  Symbol.6                                                                                                                                       0 non-null      float64\n",
      " 20  Household type including multigenerational households (9):Two-or-more-person non-census-family households[8]                                   4482 non-null   int64  \n",
      " 21  Symbol.7                                                                                                                                       0 non-null      float64\n",
      " 22  Household type including multigenerational households (9):One-person households[9]                                                             4482 non-null   int64  \n",
      " 23  Symbol.8                                                                                                                                       0 non-null      float64\n",
      "dtypes: float64(9), int64(11), object(4)\n",
      "memory usage: 840.5+ KB\n"
     ]
    },
    {
     "data": {
      "text/plain": "Empty DataFrame\nColumns: []\nIndex: []",
      "text/html": "<div>\n<style scoped>\n    .dataframe tbody tr th:only-of-type {\n        vertical-align: middle;\n    }\n\n    .dataframe tbody tr th {\n        vertical-align: top;\n    }\n\n    .dataframe thead th {\n        text-align: right;\n    }\n</style>\n<table border=\"1\" class=\"dataframe\">\n  <thead>\n    <tr style=\"text-align: right;\">\n      <th></th>\n    </tr>\n  </thead>\n  <tbody>\n  </tbody>\n</table>\n</div>"
     },
     "execution_count": 26,
     "metadata": {},
     "output_type": "execute_result"
    }
   ],
   "source": [
    "pd.DataFrame(data.info())"
   ],
   "metadata": {
    "collapsed": false,
    "pycharm": {
     "name": "#%%\n"
    }
   }
  },
  {
   "cell_type": "code",
   "execution_count": 27,
   "outputs": [
    {
     "data": {
      "text/plain": "2021    4482\nName: REF_DATE, dtype: int64"
     },
     "execution_count": 27,
     "metadata": {},
     "output_type": "execute_result"
    }
   ],
   "source": [
    "data[\"REF_DATE\"].value_counts()"
   ],
   "metadata": {
    "collapsed": false,
    "pycharm": {
     "name": "#%%\n"
    }
   }
  },
  {
   "cell_type": "code",
   "execution_count": 28,
   "outputs": [
    {
     "data": {
      "text/plain": "Lacombe (CA), Alta.                   27\nOshawa (CMA), Ont.                    27\nKingston (CMA), Ont.                  27\nBritish Columbia                      27\nPrince George (CA), B.C.              27\n                                      ..\nOttawa - Gatineau (CMA), Ont./Que.    27\nChilliwack (CMA), B.C.                27\nSylvan Lake (CA), Alta.               27\nMatane (CA), Que.                     27\nRouyn-Noranda (CA), Que.              27\nName: GEO, Length: 166, dtype: int64"
     },
     "execution_count": 28,
     "metadata": {},
     "output_type": "execute_result"
    }
   ],
   "source": [
    "data[\"GEO\"].value_counts()"
   ],
   "metadata": {
    "collapsed": false,
    "pycharm": {
     "name": "#%%\n"
    }
   }
  },
  {
   "cell_type": "code",
   "execution_count": 29,
   "outputs": [
    {
     "data": {
      "text/plain": "0        Canada\n1        Canada\n2        Canada\n3        Canada\n4        Canada\n         ...   \n4477    Nunavut\n4478    Nunavut\n4479    Nunavut\n4480    Nunavut\n4481    Nunavut\nName: GEO, Length: 4482, dtype: object"
     },
     "execution_count": 29,
     "metadata": {},
     "output_type": "execute_result"
    }
   ],
   "source": [
    "data[\"GEO\"]"
   ],
   "metadata": {
    "collapsed": false,
    "pycharm": {
     "name": "#%%\n"
    }
   }
  },
  {
   "cell_type": "code",
   "execution_count": 34,
   "outputs": [],
   "source": [
    "worksheet = openpyxl.load_workbook(\"provincial-starts-completions-dwelling-type-08-22-en.xlsx\")"
   ],
   "metadata": {
    "collapsed": false,
    "pycharm": {
     "name": "#%%\n"
    }
   }
  },
  {
   "cell_type": "code",
   "execution_count": 35,
   "outputs": [
    {
     "data": {
      "text/plain": "<Worksheet \"Index\">"
     },
     "execution_count": 35,
     "metadata": {},
     "output_type": "execute_result"
    }
   ],
   "source": [
    "worksheet.active"
   ],
   "metadata": {
    "collapsed": false,
    "pycharm": {
     "name": "#%%\n"
    }
   }
  },
  {
   "cell_type": "code",
   "execution_count": 36,
   "outputs": [
    {
     "ename": "AttributeError",
     "evalue": "'Workbook' object has no attribute 'max_row'",
     "output_type": "error",
     "traceback": [
      "\u001B[0;31m---------------------------------------------------------------------------\u001B[0m",
      "\u001B[0;31mAttributeError\u001B[0m                            Traceback (most recent call last)",
      "\u001B[0;32m<ipython-input-36-3cd900d733b5>\u001B[0m in \u001B[0;36m<module>\u001B[0;34m\u001B[0m\n\u001B[0;32m----> 1\u001B[0;31m \u001B[0;32mfor\u001B[0m \u001B[0mi\u001B[0m \u001B[0;32min\u001B[0m \u001B[0mrange\u001B[0m\u001B[0;34m(\u001B[0m\u001B[0;36m0\u001B[0m\u001B[0;34m,\u001B[0m \u001B[0mworksheet\u001B[0m\u001B[0;34m.\u001B[0m\u001B[0mmax_row\u001B[0m\u001B[0;34m)\u001B[0m\u001B[0;34m:\u001B[0m\u001B[0;34m\u001B[0m\u001B[0;34m\u001B[0m\u001B[0m\n\u001B[0m\u001B[1;32m      2\u001B[0m     \u001B[0;32mfor\u001B[0m \u001B[0mcol\u001B[0m \u001B[0;32min\u001B[0m \u001B[0mworksheet\u001B[0m\u001B[0;34m.\u001B[0m\u001B[0miter_cols\u001B[0m\u001B[0;34m(\u001B[0m\u001B[0;36m1\u001B[0m\u001B[0;34m,\u001B[0m \u001B[0mworksheet\u001B[0m\u001B[0;34m.\u001B[0m\u001B[0mmax_column\u001B[0m\u001B[0;34m)\u001B[0m\u001B[0;34m:\u001B[0m\u001B[0;34m\u001B[0m\u001B[0;34m\u001B[0m\u001B[0m\n\u001B[1;32m      3\u001B[0m         \u001B[0mprint\u001B[0m\u001B[0;34m(\u001B[0m\u001B[0mcol\u001B[0m\u001B[0;34m[\u001B[0m\u001B[0mi\u001B[0m\u001B[0;34m]\u001B[0m\u001B[0;34m.\u001B[0m\u001B[0mvalue\u001B[0m\u001B[0;34m,\u001B[0m \u001B[0mend\u001B[0m\u001B[0;34m=\u001B[0m\u001B[0;34m\"\\t\\t\"\u001B[0m\u001B[0;34m)\u001B[0m\u001B[0;34m\u001B[0m\u001B[0;34m\u001B[0m\u001B[0m\n\u001B[1;32m      4\u001B[0m     \u001B[0mprint\u001B[0m\u001B[0;34m(\u001B[0m\u001B[0;34m''\u001B[0m\u001B[0;34m)\u001B[0m\u001B[0;34m\u001B[0m\u001B[0;34m\u001B[0m\u001B[0m\n",
      "\u001B[0;31mAttributeError\u001B[0m: 'Workbook' object has no attribute 'max_row'"
     ]
    }
   ],
   "source": [
    "for i in range(0, worksheet.):\n",
    "    for col in worksheet.iter_cols(1, worksheet.max_column):\n",
    "        print(col[i].value, end=\"\\t\\t\")\n",
    "    print('')"
   ],
   "metadata": {
    "collapsed": false,
    "pycharm": {
     "name": "#%%\n"
    }
   }
  },
  {
   "cell_type": "code",
   "execution_count": null,
   "outputs": [],
   "source": [],
   "metadata": {
    "collapsed": false,
    "pycharm": {
     "name": "#%%\n"
    }
   }
  }
 ],
 "metadata": {
  "kernelspec": {
   "display_name": "Python 3",
   "language": "python",
   "name": "python3"
  },
  "language_info": {
   "codemirror_mode": {
    "name": "ipython",
    "version": 2
   },
   "file_extension": ".py",
   "mimetype": "text/x-python",
   "name": "python",
   "nbconvert_exporter": "python",
   "pygments_lexer": "ipython2",
   "version": "2.7.6"
  }
 },
 "nbformat": 4,
 "nbformat_minor": 0
}