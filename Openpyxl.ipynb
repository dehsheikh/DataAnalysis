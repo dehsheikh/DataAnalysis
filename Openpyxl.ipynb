{
 "cells": [
  {
   "cell_type": "code",
   "execution_count": 24,
   "outputs": [
    {
     "data": {
      "text/plain": "'\\nfrom openpyxl import Workbook, load_workbook\\nfrom openpyxl.utils import get_column_letter\\nfrom openpyxl.styles import Font\\n\\ndata = {\\n\\t\"Joe\": {\\n\\t\\t\"math\": 65,\\n\\t\\t\"science\": 78,\\n\\t\\t\"english\": 98,\\n\\t\\t\"gym\": 89\\n\\t},\\n\\t\"Bill\": {\\n\\t\\t\"math\": 55,\\n\\t\\t\"science\": 72,\\n\\t\\t\"english\": 87,\\n\\t\\t\"gym\": 95\\n\\t},\\n\\t\"Tim\": {\\n\\t\\t\"math\": 100,\\n\\t\\t\"science\": 45,\\n\\t\\t\"english\": 75,\\n\\t\\t\"gym\": 92\\n\\t},\\n\\t\"Sally\": {\\n\\t\\t\"math\": 30,\\n\\t\\t\"science\": 25,\\n\\t\\t\"english\": 45,\\n\\t\\t\"gym\": 100\\n\\t},\\n\\t\"Jane\": {\\n\\t\\t\"math\": 100,\\n\\t\\t\"science\": 100,\\n\\t\\t\"english\": 100,\\n\\t\\t\"gym\": 60\\n\\t}\\n}\\n\\nwb = Workbook()\\nws = wb.active\\nws.title = \"Grades\"\\n\\nheadings = [\\'Name\\'] + list(data[\\'Joe\\'].keys())\\nws.append(headings)\\n\\nfor person in data:\\n\\tgrades = list(data[person].values())\\n\\tws.append([person] + grades)\\n\\nfor col in range(2, len(data[\\'Joe\\']) + 2):\\n\\tchar = get_column_letter(col)\\n\\tws[char + \"7\"] = f\"=SUM({char + \\'2\\'}:{char + \\'6\\'})/{len(data)}\"\\n\\nfor col in range(1, 6):\\n\\tws[get_column_letter(col) + \\'1\\'].font = Font(bold=True, color=\"0099CCFF\")\\n\\nwb.save(\"NewGrades.xlsx\")\\n'"
     },
     "execution_count": 24,
     "metadata": {},
     "output_type": "execute_result"
    }
   ],
   "source": [
    "\"\"\"\n",
    "from openpyxl import Workbook, load_workbook\n",
    "from openpyxl.utils import get_column_letter\n",
    "from openpyxl.styles import Font\n",
    "\n",
    "data = {\n",
    "\t\"Joe\": {\n",
    "\t\t\"math\": 65,\n",
    "\t\t\"science\": 78,\n",
    "\t\t\"english\": 98,\n",
    "\t\t\"gym\": 89\n",
    "\t},\n",
    "\t\"Bill\": {\n",
    "\t\t\"math\": 55,\n",
    "\t\t\"science\": 72,\n",
    "\t\t\"english\": 87,\n",
    "\t\t\"gym\": 95\n",
    "\t},\n",
    "\t\"Tim\": {\n",
    "\t\t\"math\": 100,\n",
    "\t\t\"science\": 45,\n",
    "\t\t\"english\": 75,\n",
    "\t\t\"gym\": 92\n",
    "\t},\n",
    "\t\"Sally\": {\n",
    "\t\t\"math\": 30,\n",
    "\t\t\"science\": 25,\n",
    "\t\t\"english\": 45,\n",
    "\t\t\"gym\": 100\n",
    "\t},\n",
    "\t\"Jane\": {\n",
    "\t\t\"math\": 100,\n",
    "\t\t\"science\": 100,\n",
    "\t\t\"english\": 100,\n",
    "\t\t\"gym\": 60\n",
    "\t}\n",
    "}\n",
    "\n",
    "wb = Workbook()\n",
    "ws = wb.active\n",
    "ws.title = \"Grades\"\n",
    "\n",
    "headings = ['Name'] + list(data['Joe'].keys())\n",
    "ws.append(headings)\n",
    "\n",
    "for person in data:\n",
    "\tgrades = list(data[person].values())\n",
    "\tws.append([person] + grades)\n",
    "\n",
    "for col in range(2, len(data['Joe']) + 2):\n",
    "\tchar = get_column_letter(col)\n",
    "\tws[char + \"7\"] = f\"=SUM({char + '2'}:{char + '6'})/{len(data)}\"\n",
    "\n",
    "for col in range(1, 6):\n",
    "\tws[get_column_letter(col) + '1'].font = Font(bold=True, color=\"0099CCFF\")\n",
    "\n",
    "wb.save(\"NewGrades.xlsx\")\n",
    "\"\"\""
   ],
   "metadata": {
    "collapsed": false,
    "pycharm": {
     "name": "#%%\n"
    }
   }
  },
  {
   "cell_type": "code",
   "execution_count": 40,
   "outputs": [],
   "source": [
    "from openpyxl import load_workbook, Workbook\n",
    "from openpyxl.utils import get_column_letter"
   ],
   "metadata": {
    "collapsed": false,
    "pycharm": {
     "name": "#%%\n"
    }
   }
  },
  {
   "cell_type": "code",
   "execution_count": 26,
   "outputs": [],
   "source": [
    "wb = load_workbook(\"NewGrades.xlsx\")"
   ],
   "metadata": {
    "collapsed": false,
    "pycharm": {
     "name": "#%%\n"
    }
   }
  },
  {
   "cell_type": "code",
   "execution_count": 27,
   "outputs": [
    {
     "name": "stdout",
     "output_type": "stream",
     "text": [
      "<Worksheet \"Sheet3\">\n"
     ]
    }
   ],
   "source": [
    "ws = wb.active\n",
    "print(ws)"
   ],
   "metadata": {
    "collapsed": false,
    "pycharm": {
     "name": "#%%\n"
    }
   }
  },
  {
   "cell_type": "code",
   "execution_count": 28,
   "outputs": [
    {
     "name": "stdout",
     "output_type": "stream",
     "text": [
      "<Cell 'Sheet3'.A1>\n"
     ]
    }
   ],
   "source": [
    "print(ws[\"A1\"])"
   ],
   "metadata": {
    "collapsed": false,
    "pycharm": {
     "name": "#%%\n"
    }
   }
  },
  {
   "cell_type": "code",
   "execution_count": 29,
   "outputs": [
    {
     "name": "stdout",
     "output_type": "stream",
     "text": [
      "None\n"
     ]
    }
   ],
   "source": [
    "print(ws[\"A1\"].value)"
   ],
   "metadata": {
    "collapsed": false,
    "pycharm": {
     "name": "#%%\n"
    }
   }
  },
  {
   "cell_type": "code",
   "execution_count": 30,
   "outputs": [],
   "source": [
    "ws[\"A2\"].value = \"Test\"\n",
    "wb.save(\"NewGrades.xlsx\")"
   ],
   "metadata": {
    "collapsed": false,
    "pycharm": {
     "name": "#%%\n"
    }
   }
  },
  {
   "cell_type": "code",
   "execution_count": 31,
   "outputs": [
    {
     "name": "stdout",
     "output_type": "stream",
     "text": [
      "['Grades', 'Sheet1', 'Sheet2', 'Sheet3']\n"
     ]
    }
   ],
   "source": [
    "print(wb.sheetnames)"
   ],
   "metadata": {
    "collapsed": false,
    "pycharm": {
     "name": "#%%\n"
    }
   }
  },
  {
   "cell_type": "code",
   "execution_count": 33,
   "outputs": [
    {
     "name": "stdout",
     "output_type": "stream",
     "text": [
      "<Worksheet \"Sheet1\">\n"
     ]
    }
   ],
   "source": [
    "print(wb[\"Sheet1\"])"
   ],
   "metadata": {
    "collapsed": false,
    "pycharm": {
     "name": "#%%\n"
    }
   }
  },
  {
   "cell_type": "code",
   "execution_count": 34,
   "outputs": [],
   "source": [
    "wb = Workbook()\n",
    "ws = wb.active"
   ],
   "metadata": {
    "collapsed": false,
    "pycharm": {
     "name": "#%%\n"
    }
   }
  },
  {
   "cell_type": "code",
   "execution_count": 35,
   "outputs": [],
   "source": [
    "ws.title = \"Data\""
   ],
   "metadata": {
    "collapsed": false,
    "pycharm": {
     "name": "#%%\n"
    }
   }
  },
  {
   "cell_type": "code",
   "execution_count": 37,
   "outputs": [],
   "source": [
    "ws.append([\"Tim\", \"Is\", \"Great\", \"!\"])"
   ],
   "metadata": {
    "collapsed": false,
    "pycharm": {
     "name": "#%%\n"
    }
   }
  },
  {
   "cell_type": "code",
   "execution_count": 38,
   "outputs": [],
   "source": [
    "wb.save(\"tim.xlsx\")"
   ],
   "metadata": {
    "collapsed": false,
    "pycharm": {
     "name": "#%%\n"
    }
   }
  },
  {
   "cell_type": "code",
   "execution_count": 39,
   "outputs": [],
   "source": [
    "wb = load_workbook(\"tim.xlsx\")\n",
    "ws = wb.active"
   ],
   "metadata": {
    "collapsed": false,
    "pycharm": {
     "name": "#%%\n"
    }
   }
  },
  {
   "cell_type": "code",
   "execution_count": 44,
   "outputs": [
    {
     "name": "stdout",
     "output_type": "stream",
     "text": [
      "Tim\n",
      "Is\n",
      "Great\n",
      "!\n",
      "None\n",
      "None\n",
      "None\n",
      "None\n",
      "None\n",
      "None\n",
      "None\n",
      "None\n",
      "None\n",
      "None\n",
      "None\n",
      "None\n",
      "None\n",
      "None\n",
      "None\n",
      "None\n",
      "None\n",
      "None\n",
      "None\n",
      "None\n",
      "None\n",
      "None\n",
      "None\n",
      "None\n",
      "None\n",
      "None\n",
      "None\n",
      "None\n",
      "None\n",
      "None\n",
      "None\n",
      "None\n",
      "None\n",
      "None\n",
      "None\n",
      "None\n"
     ]
    }
   ],
   "source": [
    "for row in range(1, 11):\n",
    "    for col in range(1, 5):\n",
    "        char = get_column_letter(col)\n",
    "        print(ws[char + str(row)].value)"
   ],
   "metadata": {
    "collapsed": false,
    "pycharm": {
     "name": "#%%\n"
    }
   }
  },
  {
   "cell_type": "code",
   "execution_count": null,
   "outputs": [],
   "source": [
    "ws.insert_rows(7)"
   ],
   "metadata": {
    "collapsed": false,
    "pycharm": {
     "name": "#%%\n"
    }
   }
  }
 ],
 "metadata": {
  "kernelspec": {
   "display_name": "Python 3",
   "language": "python",
   "name": "python3"
  },
  "language_info": {
   "codemirror_mode": {
    "name": "ipython",
    "version": 2
   },
   "file_extension": ".py",
   "mimetype": "text/x-python",
   "name": "python",
   "nbconvert_exporter": "python",
   "pygments_lexer": "ipython2",
   "version": "2.7.6"
  }
 },
 "nbformat": 4,
 "nbformat_minor": 0
}